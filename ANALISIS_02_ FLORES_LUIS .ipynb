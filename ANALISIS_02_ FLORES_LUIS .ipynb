{
 "cells": [
  {
   "cell_type": "markdown",
   "id": "75410a1d-5fb8-41fd-94d4-2d4a615f0e09",
   "metadata": {},
   "source": [
    "## Proyecto 2. Introducción al análisis de datos\n",
    "En este caso Synergy Logistics nos provee una base de datos sobre las rutas empleadas durante la importación y exportación de productos desde el año 2015. Además, se nos solicita que realicemos un análisis para guiar la estrategia operativa 2021. Para ello, hay que enfocarnos en las siguientes tareas.\n",
    "\n",
    "#### Opción 1) Rutas de importación y exportación. \n",
    "Synergy logistics está considerando la posibilidad de enfocar sus esfuerzos en las 10 rutas más demandadas. Acorde a los flujos de importación y exportación, ¿cuáles son esas 10 rutas? ¿le conviene implementar esa estrategia? ¿por qué?\n",
    "\n",
    "#### Lo primero es importar la base de datos"
   ]
  },
  {
   "cell_type": "code",
   "execution_count": 2,
   "id": "cc7c2563-bf35-4131-bd87-e5963d3da796",
   "metadata": {},
   "outputs": [
    {
     "data": {
      "text/html": [
       "<div>\n",
       "<style scoped>\n",
       "    .dataframe tbody tr th:only-of-type {\n",
       "        vertical-align: middle;\n",
       "    }\n",
       "\n",
       "    .dataframe tbody tr th {\n",
       "        vertical-align: top;\n",
       "    }\n",
       "\n",
       "    .dataframe thead th {\n",
       "        text-align: right;\n",
       "    }\n",
       "</style>\n",
       "<table border=\"1\" class=\"dataframe\">\n",
       "  <thead>\n",
       "    <tr style=\"text-align: right;\">\n",
       "      <th></th>\n",
       "      <th>register_id</th>\n",
       "      <th>direction</th>\n",
       "      <th>origin</th>\n",
       "      <th>destination</th>\n",
       "      <th>year</th>\n",
       "      <th>date</th>\n",
       "      <th>product</th>\n",
       "      <th>transport_mode</th>\n",
       "      <th>company_name</th>\n",
       "      <th>total_value</th>\n",
       "    </tr>\n",
       "  </thead>\n",
       "  <tbody>\n",
       "    <tr>\n",
       "      <th>0</th>\n",
       "      <td>1</td>\n",
       "      <td>Exports</td>\n",
       "      <td>Japan</td>\n",
       "      <td>China</td>\n",
       "      <td>2015</td>\n",
       "      <td>31/01/15</td>\n",
       "      <td>Cars</td>\n",
       "      <td>Sea</td>\n",
       "      <td>Honda</td>\n",
       "      <td>33000000</td>\n",
       "    </tr>\n",
       "    <tr>\n",
       "      <th>1</th>\n",
       "      <td>2</td>\n",
       "      <td>Exports</td>\n",
       "      <td>Japan</td>\n",
       "      <td>China</td>\n",
       "      <td>2015</td>\n",
       "      <td>01/02/15</td>\n",
       "      <td>Cars</td>\n",
       "      <td>Sea</td>\n",
       "      <td>Honda</td>\n",
       "      <td>16000000</td>\n",
       "    </tr>\n",
       "    <tr>\n",
       "      <th>2</th>\n",
       "      <td>3</td>\n",
       "      <td>Exports</td>\n",
       "      <td>Japan</td>\n",
       "      <td>China</td>\n",
       "      <td>2015</td>\n",
       "      <td>02/02/15</td>\n",
       "      <td>Cars</td>\n",
       "      <td>Sea</td>\n",
       "      <td>Honda</td>\n",
       "      <td>29000000</td>\n",
       "    </tr>\n",
       "    <tr>\n",
       "      <th>3</th>\n",
       "      <td>4</td>\n",
       "      <td>Exports</td>\n",
       "      <td>Japan</td>\n",
       "      <td>China</td>\n",
       "      <td>2015</td>\n",
       "      <td>03/02/15</td>\n",
       "      <td>Cars</td>\n",
       "      <td>Sea</td>\n",
       "      <td>Honda</td>\n",
       "      <td>14000000</td>\n",
       "    </tr>\n",
       "    <tr>\n",
       "      <th>4</th>\n",
       "      <td>5</td>\n",
       "      <td>Exports</td>\n",
       "      <td>Japan</td>\n",
       "      <td>China</td>\n",
       "      <td>2015</td>\n",
       "      <td>04/02/15</td>\n",
       "      <td>Cars</td>\n",
       "      <td>Sea</td>\n",
       "      <td>Honda</td>\n",
       "      <td>17000000</td>\n",
       "    </tr>\n",
       "  </tbody>\n",
       "</table>\n",
       "</div>"
      ],
      "text/plain": [
       "   register_id direction origin destination  year      date product  \\\n",
       "0            1   Exports  Japan       China  2015  31/01/15    Cars   \n",
       "1            2   Exports  Japan       China  2015  01/02/15    Cars   \n",
       "2            3   Exports  Japan       China  2015  02/02/15    Cars   \n",
       "3            4   Exports  Japan       China  2015  03/02/15    Cars   \n",
       "4            5   Exports  Japan       China  2015  04/02/15    Cars   \n",
       "\n",
       "  transport_mode company_name  total_value  \n",
       "0            Sea        Honda     33000000  \n",
       "1            Sea        Honda     16000000  \n",
       "2            Sea        Honda     29000000  \n",
       "3            Sea        Honda     14000000  \n",
       "4            Sea        Honda     17000000  "
      ]
     },
     "execution_count": 2,
     "metadata": {},
     "output_type": "execute_result"
    }
   ],
   "source": [
    "import numpy as np\n",
    "\"\"\"Empleamos el módulo pandas para convertir el archivo csv en un DataFrame\"\"\"\n",
    "import pandas as pd\n",
    "datos=pd.read_csv(r\"C:\\Users\\flore\\Desktop\\synergy_logistics_database.csv\")\n",
    "\"\"\"Ahora vamos a analizar el DataFrame generado para darnos una idea de los datos\"\"\"\n",
    "datos.head()\n",
    "#\"\"\"Además queremos saber las dimensiones del mismo\"\"\"\n",
    "#datos.shape"
   ]
  },
  {
   "cell_type": "markdown",
   "id": "bfff43dc-f9b8-44b5-ab4f-592178549197",
   "metadata": {},
   "source": [
    "Ahora, vamos a definir una ruta en función del país de origen, del país de destino y del modo de transporte. Ahora, para eso hay que conocer los múltiples países de origen, de destino y los modos de transporte."
   ]
  },
  {
   "cell_type": "code",
   "execution_count": 3,
   "id": "48b29790-38d9-4e81-a8e3-95204b83c561",
   "metadata": {},
   "outputs": [
    {
     "name": "stdout",
     "output_type": "stream",
     "text": [
      "['Exports' 'Imports']\n"
     ]
    }
   ],
   "source": [
    "#Los valores únicos dentro de la columna origin:\n",
    "paises_origen=datos['origin'].unique()\n",
    "#print(paises_origen)\n",
    "#Los valores únicos dentro de la columna destination\n",
    "paises_destino=datos['destination'].unique()\n",
    "#print(paises_destino)\n",
    "#Los posibles valores de modo de transporte:\n",
    "modos_de_transporte=datos['transport_mode'].unique()\n",
    "#print(modos_de_transporte)\n",
    "#Las posibles direcciones:\n",
    "direcciones=datos['direction'].unique()\n",
    "print(direcciones)"
   ]
  },
  {
   "cell_type": "code",
   "execution_count": 4,
   "id": "2f2d2826-e0ba-4e19-89ad-5cb8966ccb42",
   "metadata": {},
   "outputs": [],
   "source": [
    "#Hacemos la distinción entre las exportaciones y las importaciones.\n",
    "exportaciones=datos[datos['direction']=='Exports']\n",
    "importaciones=datos[datos['direction']=='Imports']"
   ]
  },
  {
   "cell_type": "markdown",
   "id": "3d2a98c5-772b-4385-b064-4bad9d538599",
   "metadata": {},
   "source": [
    "Además, también hay que hacer la distinción entre la dirección: se trata de exportaciones y de importaciones. Ahora, queremos saber cuál de todas esas rutas son las más demandadas, es decir, cuál de esas rutas tiene más registros asociados."
   ]
  },
  {
   "cell_type": "code",
   "execution_count": 8,
   "id": "8b6ccb17-e779-408e-ae5f-7d1f2ff6d729",
   "metadata": {},
   "outputs": [],
   "source": [
    "#Definimos una función que reciba el nombre de dos paises, el medio de transporte, y la dirección; y nos devuelva el número de registros asociados. \n",
    "def demanda(datos,pais_origen, pais_destino, transporte):\n",
    "    nombre_ruta=pais_origen+\"-\"+pais_destino+'-'+transporte\n",
    "    #Filtramos por los datos que queremos.\n",
    "    data=datos[(datos['origin']==pais_origen) & (datos['destination']==pais_destino) & (datos['transport_mode']==transporte) ]\n",
    "    #Buscamos que nos de la cantidad de registros y el valor total de la ruta\n",
    "    num_registros=data.shape[0]\n",
    "    valor= data['total_value'].sum()\n",
    "    return nombre_ruta, num_registros, valor"
   ]
  },
  {
   "cell_type": "code",
   "execution_count": 9,
   "id": "a83f95a0-a47a-495d-8cdd-95dd97cb8571",
   "metadata": {},
   "outputs": [
    {
     "data": {
      "text/plain": [
       "('Japan-China-Sea', 196, 2550000000)"
      ]
     },
     "execution_count": 9,
     "metadata": {},
     "output_type": "execute_result"
    }
   ],
   "source": [
    "demanda(exportaciones,'Japan','China','Sea')"
   ]
  },
  {
   "cell_type": "code",
   "execution_count": 11,
   "id": "f4897fca-7e60-4e95-b78e-2d74a4591b4a",
   "metadata": {},
   "outputs": [],
   "source": [
    "#Ahora, vamos a aplicar esta función sobre todas las combinaciones posibles de rutas, pero únicamente para exportaciones.\n",
    "Rutas_exp=[]\n",
    "for origen in paises_origen:\n",
    "    for destino in paises_destino:\n",
    "        for modo in modos_de_transporte:\n",
    "            valores=demanda(exportaciones,origen,destino,modo)\n",
    "            if valores[1]==0:\n",
    "                continue\n",
    "            else:\n",
    "                Rutas_exp.append(valores)"
   ]
  },
  {
   "cell_type": "markdown",
   "id": "02e48a97-715c-4def-86bc-669e74a039f7",
   "metadata": {},
   "source": [
    "Ya contamos con una lista que posee toda la información de estas rutas asociadas a las exportaciones, si ordenamos por el número de transacciones asociadas, podemos ver cuáles son las rutas de exportación más demandadas."
   ]
  },
  {
   "cell_type": "code",
   "execution_count": 39,
   "id": "33f63b88-60fa-49fc-820a-8780aee0c2d3",
   "metadata": {},
   "outputs": [
    {
     "name": "stdout",
     "output_type": "stream",
     "text": [
      "['South Korea-Vietnam-Sea', 'USA-Netherlands-Sea', 'Netherlands-Belgium-Road', 'China-Mexico-Air', 'Japan-Brazil-Sea', 'Germany-France-Road', 'South Korea-Japan-Sea', 'Australia-Singapore-Sea', 'Canada-Mexico-Rail', 'China-Spain-Air']\n"
     ]
    }
   ],
   "source": [
    "Rutas_exp_ordenadas_por_demanda=sorted(Rutas_exp,reverse=True, key=lambda x:x[1])\n",
    "Rutas_exp_10_demanda=Rutas_exp_ordenadas_por_demanda[0:10]\n",
    "ganancias_exp_10_demanda=sum([x[2] for x in Rutas_exp_10_demanda])\n",
    "print([x[0] for x in Rutas_exp_10_demanda])"
   ]
  },
  {
   "cell_type": "code",
   "execution_count": 40,
   "id": "b8bdafe8-38f7-43de-b760-8062ba3e7323",
   "metadata": {},
   "outputs": [
    {
     "name": "stdout",
     "output_type": "stream",
     "text": [
      "['China-Mexico-Air', 'Canada-Mexico-Rail', 'South Korea-Vietnam-Sea', 'France-United Kingdom-Sea', 'South Korea-Japan-Sea', 'China-South Korea-Rail', 'USA-Mexico-Rail', 'France-Belgium-Road', 'China-Germany-Air', 'China-USA-Air']\n"
     ]
    }
   ],
   "source": [
    "#Pero veamos si de verdad esas son las rutas que más proveen ingresos a la empresa al ordenar por el valor asociado a las rutas.\n",
    "Rutas_exp_ordenadas_por_ganancia=sorted(Rutas_exp,reverse=True, key=lambda x:x[2])\n",
    "Rutas_exp_10_ganancia=Rutas_exp_ordenadas_por_ganancia[0:10]\n",
    "ganancias_exp_10_ganancia=sum([x[2] for x in Rutas_exp_10_ganancia])\n",
    "print([x[0] for x in Rutas_exp_10_ganancia])"
   ]
  },
  {
   "cell_type": "markdown",
   "id": "d0bad40b-dc3d-46e1-973c-d4a2f4ee3c29",
   "metadata": {},
   "source": [
    "Si nos concentramos en las 10 rutas con más demandadas, estaríamos generando:"
   ]
  },
  {
   "cell_type": "code",
   "execution_count": 41,
   "id": "9b522c67-3f2c-43cc-aed1-e4b8637eecf9",
   "metadata": {},
   "outputs": [
    {
     "name": "stdout",
     "output_type": "stream",
     "text": [
      "45058657000\n"
     ]
    }
   ],
   "source": [
    "print(ganancias_exp_10_demanda)"
   ]
  },
  {
   "cell_type": "markdown",
   "id": "acd093cf-e7b4-4d95-b92c-5508bfb28752",
   "metadata": {},
   "source": [
    "Si nos concentramos en las 10 rutas con mayores ingresos, generaríamos:"
   ]
  },
  {
   "cell_type": "code",
   "execution_count": 42,
   "id": "a8e8abf8-9643-4df9-8bf3-e80ba3280241",
   "metadata": {},
   "outputs": [
    {
     "name": "stdout",
     "output_type": "stream",
     "text": [
      "58647007000\n"
     ]
    }
   ],
   "source": [
    "print(ganancias_exp_10_ganancia)"
   ]
  },
  {
   "cell_type": "markdown",
   "id": "73fa6527-f913-4c85-b81e-cc418cc43a8a",
   "metadata": {},
   "source": [
    "Por lo tanto, no sería buena idea concentrarse en las 10 rutas de exportación más demandadas, sería mejor concentrarse en las 10 rutas de exportación con mayores ganancias, las cuales nos dejarían 13,588,350,000 pesos más que concentrarnos en las 10 rutas más demandadas.\n",
    "Sin embargo, se nos pide darles a conocer cuáles son estas 10 rutas:\n",
    "##### South Korea-Vietnam-Exports-Sea\n",
    "##### USA-Netherlands-Exports-Sea\n",
    "##### Netherlands-Belgium-Exports-Road\n",
    "##### China-Mexico-Exports-Air\n",
    "##### Japan-Brazil-Exports-Sea\n",
    "##### Germany-France-Exports-Road\n",
    "##### South Korea-Japan-Exports-Sea\n",
    "##### Australia-Singapore-Exports-Sea\n",
    "##### Singapore-Thailand-Imports-Sea\n",
    "##### Canada-Mexico-Exports-Rail"
   ]
  },
  {
   "cell_type": "markdown",
   "id": "f8636624-5191-4316-8091-cf62ff6780f6",
   "metadata": {},
   "source": [
    "Ahora, en el caso de las importaciones:"
   ]
  },
  {
   "cell_type": "code",
   "execution_count": 49,
   "id": "178108bd-e2ea-4469-b0c8-7d0096793841",
   "metadata": {},
   "outputs": [],
   "source": [
    "#Ahora, vamos a aplicar esta función sobre todas las combinaciones posibles de rutas, pero únicamente para exportaciones.\n",
    "Rutas_imp=[]\n",
    "for origen in paises_origen:\n",
    "    for destino in paises_destino:\n",
    "        for modo in modos_de_transporte:\n",
    "            valores=demanda(importaciones,origen,destino,modo)\n",
    "            if valores[1]==0:\n",
    "                continue\n",
    "            else:\n",
    "                Rutas_imp.append(valores)"
   ]
  },
  {
   "cell_type": "code",
   "execution_count": 50,
   "id": "f818d448-93fd-42ea-8aa9-4f8bbe2c7b19",
   "metadata": {},
   "outputs": [
    {
     "name": "stdout",
     "output_type": "stream",
     "text": [
      "['Singapore-Thailand-Sea', 'Germany-China-Sea', 'China-Japan-Air', 'Japan-Mexico-Sea', 'Malaysia-Thailand-Rail', 'China-Thailand-Road', 'Spain-Germany-Road', 'China-United Arab Emirates-Sea', 'Brazil-China-Sea', 'USA-Thailand-Sea']\n"
     ]
    }
   ],
   "source": [
    "Rutas_imp_ordenadas_por_demanda=sorted(Rutas_imp,reverse=True, key=lambda x:x[1])\n",
    "Rutas_imp_10_demanda=Rutas_imp_ordenadas_por_demanda[0:10]\n",
    "ganancias_imp_10_demanda=sum([x[2] for x in Rutas_imp_10_demanda])\n",
    "print([x[0] for x in Rutas_imp_10_demanda])"
   ]
  },
  {
   "cell_type": "code",
   "execution_count": 51,
   "id": "cc859fe0-fe91-4e36-b587-ba52beeedf2a",
   "metadata": {},
   "outputs": [
    {
     "name": "stdout",
     "output_type": "stream",
     "text": [
      "['Singapore-Thailand-Sea', 'Japan-Mexico-Sea', 'Malaysia-Thailand-Rail', 'China-United Arab Emirates-Sea', 'China-Japan-Air', 'China-Thailand-Road', 'Japan-United Arab Emirates-Sea', 'Mexico-USA-Rail', 'Spain-Germany-Road', 'Germany-Mexico-Sea']\n"
     ]
    }
   ],
   "source": [
    "Rutas_imp_ordenadas_por_ganancia=sorted(Rutas_imp,reverse=True, key=lambda x:x[2])\n",
    "Rutas_imp_10_ganancia=Rutas_imp_ordenadas_por_ganancia[0:10]\n",
    "ganancias_imp_10_ganancia=sum([x[2] for x in Rutas_imp_10_ganancia])\n",
    "print([x[0] for x in Rutas_imp_10_ganancia])"
   ]
  },
  {
   "cell_type": "code",
   "execution_count": 53,
   "id": "02b1a93e-f24c-4fec-805d-b3e69f4d11e6",
   "metadata": {},
   "outputs": [
    {
     "name": "stdout",
     "output_type": "stream",
     "text": [
      "26150000000\n"
     ]
    }
   ],
   "source": [
    "print(ganancias_imp_10_demanda)"
   ]
  },
  {
   "cell_type": "code",
   "execution_count": 54,
   "id": "9bb8b5ff-e46a-4741-b51b-51f2104ed697",
   "metadata": {},
   "outputs": [
    {
     "name": "stdout",
     "output_type": "stream",
     "text": [
      "28943000000\n"
     ]
    }
   ],
   "source": [
    "print(ganancias_imp_10_ganancia)"
   ]
  },
  {
   "cell_type": "markdown",
   "id": "90355483-ca8c-4156-9612-42902db7271b",
   "metadata": {},
   "source": [
    "En este caso, de concentrarnos en las 10 rutas de importación con mayor ganancia, obtendríamos 2,793,000,000 más que de concentrarnos en las 10 rutas de importación con mayor demanda. Las 10 rutas de importación más demandadas son:\n",
    "\n",
    "##### Singapore-Thailand-Sea\n",
    "##### Germany-China-Sea\n",
    "##### China-Japan-Air\n",
    "##### Japan-Mexico-Sea\n",
    "##### Malaysia-Thailand-Rail\n",
    "##### China-Thailand-Road\n",
    "##### Spain-Germany-Road\n",
    "##### China-United Arab Emirates-Sea\n",
    "##### Brazil-China-Sea\n",
    "##### USA-Thailand-Sea"
   ]
  },
  {
   "cell_type": "markdown",
   "id": "de340d22-d76e-4d84-8042-d905a5a5a5d9",
   "metadata": {},
   "source": [
    "### Opción 2) Medio de transporte utilizado.\n",
    "¿Cuáles son los 3 medios de transporte más importantes para Synergy logistics considerando el valor de las importaciones y exportaciones? ¿Cuál es medio de transporte que podrían reducir? "
   ]
  },
  {
   "cell_type": "markdown",
   "id": "c87f1ef1-f1a9-4c89-bf0e-0bc365457afc",
   "metadata": {},
   "source": [
    "En este caso, vamos a definir una función que para un tipo de transporte dado, nos devuelva el valor total de las importaciones o exportaciones asociados. El transporte a reducir será aquel que nos deje menos ingresos. "
   ]
  },
  {
   "cell_type": "code",
   "execution_count": 85,
   "id": "e9b908c8-91c8-4ccf-ba3b-262982fea824",
   "metadata": {},
   "outputs": [],
   "source": [
    "def Ganancia_transporte(datos,transporte):\n",
    "    #Filtramos por el tipo de transporte:\n",
    "    data_transport=datos[datos['transport_mode']==transporte]\n",
    "    ganancia=data_transport['total_value'].sum()\n",
    "    return transporte, ganancia"
   ]
  },
  {
   "cell_type": "code",
   "execution_count": 86,
   "id": "7abd9d8c-da7e-4055-8293-4011ed6b9366",
   "metadata": {},
   "outputs": [
    {
     "name": "stdout",
     "output_type": "stream",
     "text": [
      "[('Sea', 65592622000), ('Rail', 34505043000), ('Air', 32785147000), ('Road', 27280486000)]\n"
     ]
    }
   ],
   "source": [
    "Ganancias_exp_transporte=[]\n",
    "for modo in modos_de_transporte:\n",
    "    Ganancias_exp_transporte.append(Ganancia_transporte(exportaciones,modo))\n",
    "#Ordenamos\n",
    "Ganancias_exp_transporte_ordenada=sorted(Ganancias_exp_transporte,reverse=True, key=lambda x:x[1])\n",
    "print(Ganancias_exp_transporte_ordenada)"
   ]
  },
  {
   "cell_type": "code",
   "execution_count": 87,
   "id": "72733398-fa14-4bfa-9597-b93cb3235700",
   "metadata": {},
   "outputs": [
    {
     "name": "stdout",
     "output_type": "stream",
     "text": [
      "[('Sea', 34938000000), ('Rail', 9123000000), ('Road', 5990000000), ('Air', 5477000000)]\n"
     ]
    }
   ],
   "source": [
    "Ganancias_imp_transporte=[]\n",
    "for modo in modos_de_transporte:\n",
    "    Ganancias_imp_transporte.append(Ganancia_transporte(importaciones,modo))\n",
    "#Ordenamos\n",
    "Ganancias_imp_transporte_ordenada=sorted(Ganancias_imp_transporte,reverse=True, key=lambda x:x[1])\n",
    "print(Ganancias_imp_transporte_ordenada)"
   ]
  },
  {
   "cell_type": "markdown",
   "id": "d9fba236-2b1b-4df7-a71c-01378cc745ec",
   "metadata": {},
   "source": [
    "##### Los 3 medios de transporte  más importantes son Sea, Rail y Road, para las importaciones. El medio de transporte ha reducir podría ser \"Air\"."
   ]
  },
  {
   "cell_type": "markdown",
   "id": "bc9e9560-04a4-435a-9a5f-22f7a00cdef7",
   "metadata": {},
   "source": [
    "### Opción 3) Valor total de importaciones y exportaciones. \n",
    "\n",
    "Si Synergy Logistics quisiera enfocarse en los países que le generan el 80% del valor de las exportaciones e importaciones ¿en qué grupo de países debería enfocar sus esfuerzos?"
   ]
  },
  {
   "cell_type": "markdown",
   "id": "e8298bcb-14a8-4cd9-bd2e-8667f366ae93",
   "metadata": {},
   "source": [
    "El 80% de las exportaciones e importaciones se pueden obtener a partir de diferentes rutas, como se describió en el punto 1, sin embargo, no se nos pide que nos concentremos en vías de transporte, sólamente en los paises. Por lo que vamos a abarcar únicamente a los países de origen y de destino, para lo que hay que generar una función parecida a la de la opción 1."
   ]
  },
  {
   "cell_type": "code",
   "execution_count": 61,
   "id": "ef2d6f15-4380-4509-a7ef-f782f1007fdd",
   "metadata": {},
   "outputs": [],
   "source": [
    "#Definimos una función que reciba el nombre del pais y nos devuelva el número de registros asociados dependiendo de la dirección\n",
    "def paises_porcentajes(datos,pais,direccion):\n",
    "    #Filtramos por los datos que queremos\n",
    "    data=datos[(datos[direccion]==pais)]\n",
    "    #Buscamos que nos de la cantidad de registros y el valor total de la ruta\n",
    "    porcentaje= data['total_value'].sum() / datos['total_value'].sum()\n",
    "    return pais, porcentaje"
   ]
  },
  {
   "cell_type": "code",
   "execution_count": 67,
   "id": "70dbb675-267f-4e95-9cdb-9c5a447782bb",
   "metadata": {},
   "outputs": [
    {
     "data": {
      "text/plain": [
       "('Germany', 0.07082292348900059)"
      ]
     },
     "execution_count": 67,
     "metadata": {},
     "output_type": "execute_result"
    }
   ],
   "source": [
    "paises_porcentajes(exportaciones,'Germany','origin')"
   ]
  },
  {
   "cell_type": "code",
   "execution_count": 73,
   "id": "8606e535-3c02-4fac-8e13-937253a3d09b",
   "metadata": {},
   "outputs": [],
   "source": [
    "#Ahora, vamos a iterar sobre los paises de origen para exportaciones, vamos a calcular los porcentajes y luego vamos a ordenarlos y sumarlos \n",
    "#hasta obtener el porcentaje del 80% del valor total de las exportaciones, es decir, 0.80.\n",
    "\n",
    "Porcentajes_exp=[]\n",
    "for origen in paises_origen:\n",
    "    if paises_porcentajes(exportaciones,origen,'origin')[1]==0:\n",
    "        continue\n",
    "    else: \n",
    "        Porcentajes_exp.append(paises_porcentajes(exportaciones,origen,'origin'))\n",
    "Porcentajes_exp_ordenados=sorted(Porcentajes_exp, reverse=True, key=lambda x:x[1])\n",
    "#print(Porcentajes_ordenados)\n",
    "porcentaje_actual=0\n",
    "Paises_exp_origen_porcentaje=[]\n",
    "Avance=[]\n",
    "for porcentaje in Porcentajes_exp_ordenados:\n",
    "    if porcentaje_actual < 0.80:\n",
    "        Paises_exp_origen_porcentaje.append(porcentaje[0])\n",
    "        porcentaje_actual+= porcentaje[1]\n",
    "        Avance.append(porcentaje_actual)\n",
    "    else:\n",
    "        continue"
   ]
  },
  {
   "cell_type": "code",
   "execution_count": 76,
   "id": "18925325-d5fe-474b-9c1f-de6eb7e750d8",
   "metadata": {},
   "outputs": [
    {
     "name": "stdout",
     "output_type": "stream",
     "text": [
      "0.822704331425543\n",
      "['China', 'France', 'USA', 'South Korea', 'Russia', 'Japan', 'Germany', 'Canada']\n",
      "[0.20589639706345209, 0.32211735550050924, 0.43672105203527967, 0.5280100438491221, 0.6105695326029064, 0.6851744898509771, 0.7559974133399776, 0.822704331425543]\n"
     ]
    }
   ],
   "source": [
    "print(Paises_exp_origen_porcentaje)\n",
    "print(Avance)"
   ]
  },
  {
   "cell_type": "markdown",
   "id": "d20c0c07-a2d5-40c4-9fec-ae5d552883ba",
   "metadata": {},
   "source": [
    "Así en cuanto a exportaciones,los paises de origen involucrados en las rutas que generan el 80% de los ingresos son:\n",
    "\n",
    "##### China\n",
    "##### France\n",
    "##### USA\n",
    "##### South Korea\n",
    "##### Russia\n",
    "##### Japan\n",
    "##### Germany\n",
    "##### Canada"
   ]
  },
  {
   "cell_type": "markdown",
   "id": "3e13e0ea-02fb-4e36-b073-4375bb5faf8c",
   "metadata": {},
   "source": [
    "Ahora, vamos a ver los paises de destino involucrados en las exportaciones que generan el 80% de los ingresos:"
   ]
  },
  {
   "cell_type": "code",
   "execution_count": 77,
   "id": "1f2d6ad0-8605-4d95-944b-9c3e69d452a9",
   "metadata": {},
   "outputs": [],
   "source": [
    "Porcentajes_exp=[]\n",
    "for destino in paises_destino:\n",
    "    if paises_porcentajes(exportaciones,destino,'destination')[1]==0:\n",
    "        continue\n",
    "    else: \n",
    "        Porcentajes_exp.append(paises_porcentajes(exportaciones,destino,'destination'))\n",
    "Porcentajes_exp_ordenados=sorted(Porcentajes_exp, reverse=True, key=lambda x:x[1])\n",
    "#print(Porcentajes_ordenados)\n",
    "porcentaje_actual=0\n",
    "Paises_exp_destino_porcentaje=[]\n",
    "Avance=[]\n",
    "for porcentaje in Porcentajes_exp_ordenados:\n",
    "    if porcentaje_actual < 0.80:\n",
    "        Paises_exp_destino_porcentaje.append(porcentaje[0])\n",
    "        porcentaje_actual+= porcentaje[1]\n",
    "        Avance.append(porcentaje_actual)\n",
    "    else:\n",
    "        continue"
   ]
  },
  {
   "cell_type": "code",
   "execution_count": 79,
   "id": "a3c3be40-4847-4263-842d-135a92e2c2b4",
   "metadata": {},
   "outputs": [
    {
     "name": "stdout",
     "output_type": "stream",
     "text": [
      "0.8345596879504816\n",
      "['Mexico', 'USA', 'Belgium', 'Germany', 'China', 'Japan', 'United Kingdom', 'Brazil', 'South Korea', 'Vietnam', 'Italy', 'Spain', 'France']\n",
      "[0.17678841128758474, 0.25895086151385316, 0.34073851301438607, 0.41131305250719796, 0.48161625018485815, 0.5364175193245583, 0.5873072868417082, 0.6341845433277729, 0.6798983122837543, 0.7228357835138984, 0.7609801591373324, 0.7980310382969261, 0.8345596879504816]\n"
     ]
    }
   ],
   "source": [
    "print(Paises_exp_destino_porcentaje)\n",
    "print(Avance)"
   ]
  },
  {
   "cell_type": "markdown",
   "id": "124b21f5-febf-4e1a-9051-d855c2cbea1e",
   "metadata": {},
   "source": [
    "Los paises de destino que aportan el 80% de los ingresos en exportaciones son:\n",
    "\n",
    "##### China\n",
    "##### France\n",
    "##### USA\n",
    "##### South Korea\n",
    "##### Russia\n",
    "##### Japan\n",
    "##### Germany\n",
    "##### Canada"
   ]
  },
  {
   "cell_type": "markdown",
   "id": "079c9120-28aa-48a2-bd11-5a65aa2f3f2b",
   "metadata": {},
   "source": [
    "###### Ahora, realizamos lo mismo para las importaciones"
   ]
  },
  {
   "cell_type": "code",
   "execution_count": 80,
   "id": "3c5f032c-7102-44eb-b31e-2771cb21bf69",
   "metadata": {},
   "outputs": [],
   "source": [
    "Porcentajes_imp=[]\n",
    "for origen in paises_origen:\n",
    "    if paises_porcentajes(importaciones,origen,'origin')[1]==0:\n",
    "        continue\n",
    "    else: \n",
    "        Porcentajes_imp.append(paises_porcentajes(importaciones,origen,'origin'))\n",
    "Porcentajes_imp_ordenados=sorted(Porcentajes_imp, reverse=True, key=lambda x:x[1])\n",
    "#print(Porcentajes_ordenados)\n",
    "porcentaje_actual=0\n",
    "Paises_imp_origen_porcentaje=[]\n",
    "Avance=[]\n",
    "for porcentaje in Porcentajes_imp_ordenados:\n",
    "    if porcentaje_actual < 0.80:\n",
    "        Paises_imp_origen_porcentaje.append(porcentaje[0])\n",
    "        porcentaje_actual+= porcentaje[1]\n",
    "        Avance.append(porcentaje_actual)\n",
    "    else:\n",
    "        continue"
   ]
  },
  {
   "cell_type": "code",
   "execution_count": 82,
   "id": "49fd8b06-c603-44be-b2f1-94c9f4b68326",
   "metadata": {},
   "outputs": [
    {
     "name": "stdout",
     "output_type": "stream",
     "text": [
      "0.8276004898429621\n",
      "['China', 'Japan', 'USA', 'Mexico', 'Germany', 'Singapore', 'South Korea', 'Malaysia']\n",
      "[0.22030327042212938, 0.36606756951447916, 0.46135283100417807, 0.5445721077654516, 0.6211100705950151, 0.6934519521682755, 0.7634886903904337, 0.8276004898429621]\n"
     ]
    }
   ],
   "source": [
    "print(Paises_imp_origen_porcentaje)\n",
    "print(Avance)"
   ]
  },
  {
   "cell_type": "markdown",
   "id": "b5953617-bf0a-400e-9a22-9b6947c63ccf",
   "metadata": {},
   "source": [
    "Los países de origen con mayor contribución al 80% de las importaciones son:\n",
    "\n",
    "##### China\n",
    "##### Japan\n",
    "##### USA\n",
    "##### Mexico\n",
    "##### Germany\n",
    "##### Singapore\n",
    "##### South Korea\n",
    "##### Malaysia"
   ]
  },
  {
   "cell_type": "markdown",
   "id": "914b90b6-e7d2-4ebe-b81f-9ed42ddb0844",
   "metadata": {},
   "source": [
    "Ahora, con los paises de destino de las importaciones:"
   ]
  },
  {
   "cell_type": "code",
   "execution_count": 83,
   "id": "c9ad179e-c9d6-4b1b-8154-0c14b13b0c13",
   "metadata": {},
   "outputs": [],
   "source": [
    "Porcentajes_imp=[]\n",
    "for destino in paises_destino:\n",
    "    if paises_porcentajes(importaciones,destino,'destination')[1]==0:\n",
    "        continue\n",
    "    else: \n",
    "        Porcentajes_imp.append(paises_porcentajes(importaciones,destino,'destination'))\n",
    "Porcentajes_imp_ordenados=sorted(Porcentajes_imp, reverse=True, key=lambda x:x[1])\n",
    "#print(Porcentajes_ordenados)\n",
    "porcentaje_actual=0\n",
    "Paises_imp_destino_porcentaje=[]\n",
    "Avance=[]\n",
    "for porcentaje in Porcentajes_imp_ordenados:\n",
    "    if porcentaje_actual < 0.80:\n",
    "        Paises_imp_destino_porcentaje.append(porcentaje[0])\n",
    "        porcentaje_actual+= porcentaje[1]\n",
    "        Avance.append(porcentaje_actual)\n",
    "    else:\n",
    "        continue"
   ]
  },
  {
   "cell_type": "code",
   "execution_count": 88,
   "id": "5cbe0eaa-6dd2-496b-9e6f-da7640b114f0",
   "metadata": {},
   "outputs": [
    {
     "name": "stdout",
     "output_type": "stream",
     "text": [
      "['Thailand', 'Mexico', 'United Arab Emirates', 'Japan', 'Germany', 'USA']\n",
      "[0.2475327762570235, 0.4077042212937617, 0.5490383230082121, 0.6539943812130817, 0.7460020170004322, 0.8136795850741968]\n"
     ]
    }
   ],
   "source": [
    "print(Paises_imp_destino_porcentaje)\n",
    "print(Avance)"
   ]
  },
  {
   "cell_type": "markdown",
   "id": "ef8e031e-c53e-47b3-96b5-da9b8e3824b9",
   "metadata": {},
   "source": [
    "Los paises de destino que aportan el 80% de las importaciones son:\n",
    "\n",
    "##### Thailand\n",
    "##### Mexico\n",
    "##### United Arab Emirates\n",
    "##### Japan\n",
    "##### Germany\n",
    "##### USA"
   ]
  }
 ],
 "metadata": {
  "kernelspec": {
   "display_name": "Python 3 (ipykernel)",
   "language": "python",
   "name": "python3"
  },
  "language_info": {
   "codemirror_mode": {
    "name": "ipython",
    "version": 3
   },
   "file_extension": ".py",
   "mimetype": "text/x-python",
   "name": "python",
   "nbconvert_exporter": "python",
   "pygments_lexer": "ipython3",
   "version": "3.9.7"
  }
 },
 "nbformat": 4,
 "nbformat_minor": 5
}
